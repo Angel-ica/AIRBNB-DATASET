{
 "cells": [
  {
   "cell_type": "code",
   "execution_count": 1,
   "metadata": {},
   "outputs": [],
   "source": [
    "from tabular_data import load_airbnb\n",
    "import sklearn\n",
    "import pandas as pd\n",
    "import numpy as np\n"
   ]
  },
  {
   "cell_type": "code",
   "execution_count": null,
   "metadata": {},
   "outputs": [],
   "source": [
    "# import the necessary libraries\n",
    "from sklearn.linear_model import SGDRegressor\n",
    "from sklearn.model_selection import train_test_split\n",
    "from sklearn import model_selection\n",
    "\n",
    "# load the data and split into training and test sets\n",
    "df_listing = pd.read_csv('airbnb-property-listings/tabular_data/clean_data.csv')\n",
    "np.random.seed(1)\n",
    "X, y = load_airbnb(df_listing, \"Price_Night\")\n",
    "# X_train, X_test, y_train, y_test = train_test_split(X, y, test_size=0.2, random_state=42)\n",
    "X_train, X_test, y_train, y_test = model_selection.train_test_split(X, y, test_size=0.3)\n",
    "\n",
    "X_validation, X_test, y_validation, y_test = model_selection.train_test_split(\n",
    "    X_test, y_test, test_size=0.5\n",
    ")\n",
    "# create the SGD model\n",
    "sgd = SGDRegressor(loss='squared_loss', penalty='l2', alpha=0.0001, max_iter=1000)\n",
    "\n",
    "# fit the model to the training data\n",
    "sgd.fit(X_train, y_train)\n",
    "\n",
    "# evaluate the model on the test data\n",
    "score = sgd.score(X_test, y_test)\n",
    "print(f'Test score: {score:.2f}')\n"
   ]
  }
 ],
 "metadata": {
  "kernelspec": {
   "display_name": "Python 3.10.8 ('airbnb_env')",
   "language": "python",
   "name": "python3"
  },
  "language_info": {
   "codemirror_mode": {
    "name": "ipython",
    "version": 3
   },
   "file_extension": ".py",
   "mimetype": "text/x-python",
   "name": "python",
   "nbconvert_exporter": "python",
   "pygments_lexer": "ipython3",
   "version": "3.10.8"
  },
  "orig_nbformat": 4,
  "vscode": {
   "interpreter": {
    "hash": "0cc1e864071f7d9f9cf83eed041ff7630f947f62589f9226f691d59f3a340221"
   }
  }
 },
 "nbformat": 4,
 "nbformat_minor": 2
}
