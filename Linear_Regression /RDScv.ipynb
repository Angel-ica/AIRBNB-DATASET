{
 "cells": [
  {
   "cell_type": "code",
   "execution_count": 7,
   "metadata": {},
   "outputs": [
    {
     "name": "stdout",
     "output_type": "stream",
     "text": [
      "MSE: : 7.604543047048496e-27\n",
      "MAE : 6.119283190859047e-14\n",
      "r2 score: : 1.0\n",
      "MSE: : 2640.34897869958\n",
      "MAE : 17.84672510707704\n",
      "r2 score: : 0.8437663383271465\n",
      "MSE: : 1271.6479400749063\n",
      "MAE : 10.359550561797754\n",
      "r2 score: : 0.9247545625069249\n",
      "MSE: : 0.003064011482564344\n",
      "MAE : 0.0408455766268319\n",
      "r2 score: : 0.9999998186975521\n"
     ]
    },
    {
     "data": {
      "text/plain": [
       "(SGDRegressor(alpha=0.1, l1_ratio=0.9, learning_rate='adaptive',\n",
       "              loss='epsilon_insensitive', penalty='elasticnet'),\n",
       " {'penalty': 'elasticnet',\n",
       "  'max_iter': 1000,\n",
       "  'loss': 'epsilon_insensitive',\n",
       "  'learning_rate': 'adaptive',\n",
       "  'l1_ratio': 0.9,\n",
       "  'alpha': 0.1})"
      ]
     },
     "execution_count": 7,
     "metadata": {},
     "output_type": "execute_result"
    }
   ],
   "source": [
    "'''using RandomisedSearchcv to optimize the hyperparameters of the given models, return the best model and it's hyperparameters. '''\n",
    "import sys\n",
    "sys.path.insert(0,\"/Users/angelicaaluo/Airbnb/AIRBNB-DATASET/\")\n",
    "import pandas  as pd\n",
    "import numpy as np\n",
    "import os\n",
    "from sklearn.linear_model import LinearRegression\n",
    "from sklearn.model_selection import RandomizedSearchCV\n",
    "from sklearn.model_selection import GridSearchCV\n",
    "from sklearn. ensemble import GradientBoostingRegressor\n",
    "from sklearn.tree import DecisionTreeRegressor\n",
    "from sklearn.linear_model import SGDRegressor\n",
    "from tabular_data import load_airbnb\n",
    "from sklearn.model_selection import train_test_split\n",
    "from sklearn.metrics import r2_score, mean_squared_error,mean_absolute_error\n",
    "from joblib import dump\n",
    "from json import dump\n",
    "\n",
    "df= pd.read_csv('/Users/angelicaaluo/Airbnb/AIRBNB-DATASET/airbnb-property-listings/tabular_data/clean_data.csv')\n",
    "df.drop('Unnamed: 19',axis=1,inplace=True)  \n",
    "# X,y = load_airbnb(df,\"Price_Night\")\n",
    "X = df.select_dtypes(include=['int','float'])\n",
    "y=df[\"Price_Night\"]\n",
    "model_hyperparam_distribution={\n",
    "LinearRegression: {\n",
    "    'fit_intercept': [True, False],\n",
    "    # 'normalize': [True, False],\n",
    "    'copy_X': [True, False],\n",
    "    'n_jobs': [None, 1, 2, 3, 4, 5],\n",
    "    # 'random_state': [42, 56, 71, 93]\n",
    "},\n",
    "\n",
    "DecisionTreeRegressor:{\n",
    "    'max_depth': [3, 4, 5, 6, 7, 8, 9, 10],\n",
    "    'min_samples_leaf': [10, 20, 30, 40, 50],\n",
    "    'min_samples_split': [2, 5, 10, 15, 20],\n",
    "    'max_leaf_nodes': [5, 10, 15, 20, 25],\n",
    "    'max_features': [1.0, 'sqrt', 'log2', None],\n",
    "    # 'criterion': ['mse', 'mae'],\n",
    "    'criterion' :['poisson', 'squared_error', 'absolute_error', 'friedman_mse'],\n",
    "    'splitter': ['best', 'random'],\n",
    "    'random_state': [42, 56, 71, 93]\n",
    "},\n",
    "\n",
    "GradientBoostingRegressor:{\n",
    "    'learning_rate': [0.01, 0.1, 0.5, 1],\n",
    "    'n_estimators': [50, 100, 200, 500],\n",
    "    'max_depth': [3, 4, 5, 6, 7, 8, 9, 10],\n",
    "    'min_samples_leaf': [10, 20, 30, 40, 50],\n",
    "    'min_samples_split': [2, 5, 10, 15, 20],\n",
    "    'max_leaf_nodes': [5, 10, 15, 20, 25],\n",
    "    'max_features': [1.0, 'sqrt', 'log2', None],\n",
    "    'loss': ['absolute_error', 'squared_error', 'huber', 'quantile'],\n",
    "    'random_state': [42, 56, 71, 93]\n",
    "},\n",
    "\n",
    "SGDRegressor:{\n",
    "    'loss': ['squared_error', 'epsilon_insensitive', 'huber', 'squared_epsilon_insensitive'],\n",
    "    'penalty': ['l2', 'l1', 'elasticnet'],\n",
    "    'alpha': [0.0001, 0.001, 0.01, 0.1, 1],\n",
    "    'l1_ratio': [0.1, 0.3, 0.5, 0.7, 0.9],\n",
    "    'learning_rate': ['constant', 'optimal', 'invscaling', 'adaptive'],\n",
    "    'max_iter': [250, 750, 500, 1000]\n",
    "}\n",
    "\n",
    "}\n",
    "\n",
    "def custom_tune_regression_hyperparameters(features,label,model_hyperparam_distribution):\n",
    "    features=X\n",
    "    label=y\n",
    "    for md,hp in model_hyperparam_distribution.items():\n",
    "        model=md()\n",
    "        hyper_parameter=hp\n",
    "        X_train, X_test, y_train, y_test = train_test_split(X, y, test_size=0.3, random_state=42)\n",
    "        X_train, X_val, y_train, y_val = train_test_split(X_train, y_train, test_size=0.5, random_state=42)\n",
    "        random_search = RandomizedSearchCV(estimator=model,param_distributions=hyper_parameter,cv=5)\n",
    "        random_search.fit(X_train,y_train)\n",
    "        best_model= random_search.best_estimator_\n",
    "        best_hp=random_search.best_params_\n",
    "        eval_metrics={'MSE: ':mean_squared_error,\n",
    "        'MAE ':mean_absolute_error,\n",
    "        'r2 score: ':r2_score}\n",
    "        for name, metric in eval_metrics.items():\n",
    "            y_pred = random_search.predict(X_test)\n",
    "            metric_value = metric(y_test, y_pred)\n",
    "            metrics=(f'{name}: {metric_value}')\n",
    "            print(metrics)\n",
    "            # print(f'{name}: {metric_value}')\n",
    "\n",
    "    return best_model,best_hp\n",
    "\n",
    "custom_tune_regression_hyperparameters(X,y,model_hyperparam_distribution)\n"
   ]
  }
 ],
 "metadata": {
  "kernelspec": {
   "display_name": "Python 3.10.8 ('airbnb_env')",
   "language": "python",
   "name": "python3"
  },
  "language_info": {
   "codemirror_mode": {
    "name": "ipython",
    "version": 3
   },
   "file_extension": ".py",
   "mimetype": "text/x-python",
   "name": "python",
   "nbconvert_exporter": "python",
   "pygments_lexer": "ipython3",
   "version": "3.10.8"
  },
  "orig_nbformat": 4,
  "vscode": {
   "interpreter": {
    "hash": "0cc1e864071f7d9f9cf83eed041ff7630f947f62589f9226f691d59f3a340221"
   }
  }
 },
 "nbformat": 4,
 "nbformat_minor": 2
}
