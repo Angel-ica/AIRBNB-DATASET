{
 "cells": [
  {
   "cell_type": "code",
   "execution_count": 16,
   "metadata": {},
   "outputs": [
    {
     "name": "stdout",
     "output_type": "stream",
     "text": [
      "Confusion matrix: : [[37  0  3  2  1]\n",
      " [ 0 34  0  2  0]\n",
      " [14  0 53  0  2]\n",
      " [ 5  5  0 53  0]\n",
      " [ 0  0  6  0 50]]\n",
      "accuracy_score: : 0.850187265917603\n",
      "recall_score:0.850187265917603\n",
      "precision_score: 0.850187265917603\n",
      "precision_score: 0.850187265917603\n"
     ]
    }
   ],
   "source": [
    "#import necessary libraries\n",
    "import sys\n",
    "sys.path.insert(0,\"/Users/angelicaaluo/Airbnb/AIRBNB-DATASET/\")\n",
    "# print(sys.path)\n",
    "from sklearn.linear_model import LogisticRegression\n",
    "from sklearn.model_selection import train_test_split\n",
    "from sklearn.metrics import confusion_matrix,accuracy_score\n",
    "from sklearn.metrics import recall_score, precision_score,f1_score\n",
    "from sklearn.preprocessing import StandardScaler\n",
    "from sklearn.pipeline import make_pipeline\n",
    "import pandas as pd\n",
    "from tabular_data import load_airbnb\n",
    "#load the data\n",
    "df = pd.read_csv('/Users/angelicaaluo/Airbnb/AIRBNB-DATASET/airbnb-property-listings/tabular_data/clean_data.csv')\n",
    "df.drop('Unnamed: 19',axis=1,inplace=True)\n",
    "X=df.select_dtypes(include=['int','float'])\n",
    "y=df[\"Category\"]\n",
    "# X,y=load_airbnb(df,\"Category\")\n",
    "#split the data into train,test and val sets \n",
    "X_train, X_test, y_train,y_test=train_test_split(X, y, test_size=0.3,random_state=42)\n",
    "X_train,X_val, y_train,y_val=train_test_split(X_train,y_train, test_size=0.5,random_state=42)\n",
    "pipe = make_pipeline(StandardScaler(), LogisticRegression())\n",
    "pipe.fit(X_train, y_train)\n",
    "#create an instance of a logistic regression\n",
    "# lgr = LogisticRegression()\n",
    "#fit the logistic regression on our data \n",
    "# lgr.fit(X_train,y_train)\n",
    "#predict the data and evaluate the outcome of our model \n",
    "evaluation_metrics={\n",
    "    \"Confusion matrix: \": confusion_matrix,\n",
    "    \"accuracy_score: \": accuracy_score,\n",
    "    # \"recall_score: \": recall_score(average='micro'),\n",
    "    # \"f1_score: \": f1_score,\n",
    "    # \"precision_score: \": precision_score\n",
    "}\n",
    "for name,metric in evaluation_metrics.items():\n",
    "    y_pred= pipe.predict(X_test)\n",
    "    eval_metric = f\"{name}: {metric(y_pred,y_test)}\"\n",
    "    print(eval_metric)\n",
    "\n",
    "print(f\"recall_score:{recall_score(y_pred,y_test,average='micro')}\")\n",
    "print(f\"precision_score: {precision_score(y_pred,y_test,average='micro')}\")\n",
    "print(f\"f1_score: {f1_score(y_pred,y_test,average='micro')}\")\n"
   ]
  }
 ],
 "metadata": {
  "kernelspec": {
   "display_name": "Python 3.10.8 ('airbnb_env')",
   "language": "python",
   "name": "python3"
  },
  "language_info": {
   "codemirror_mode": {
    "name": "ipython",
    "version": 3
   },
   "file_extension": ".py",
   "mimetype": "text/x-python",
   "name": "python",
   "nbconvert_exporter": "python",
   "pygments_lexer": "ipython3",
   "version": "3.10.8"
  },
  "orig_nbformat": 4,
  "vscode": {
   "interpreter": {
    "hash": "0cc1e864071f7d9f9cf83eed041ff7630f947f62589f9226f691d59f3a340221"
   }
  }
 },
 "nbformat": 4,
 "nbformat_minor": 2
}
