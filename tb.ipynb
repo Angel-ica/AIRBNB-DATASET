{
 "cells": [
  {
   "cell_type": "code",
   "execution_count": null,
   "metadata": {},
   "outputs": [],
   "source": [
    "import os\n",
    "from PIL import Image\n",
    "import numpy as np\n",
    "from skimage import io\n",
    "\n"
   ]
  },
  {
   "cell_type": "code",
   "execution_count": null,
   "metadata": {},
   "outputs": [],
   "source": [
    "def get_image_path(all_images_dir):\n",
    "    try:\n",
    "        # all_images_dir='/Users/angelicaaluo/Airbnb/AIRBNB-DATASET/airbnb-property-listings/images'\n",
    "        all_images=os.listdir(all_images_dir)\n",
    "        all_images_paths=[]\n",
    "        for image_dir in all_images:\n",
    "            relative_path=os.path.join(all_images_dir, image_dir)\n",
    "            # print(relative_path)\n",
    "            for rp in os.listdir(relative_path):\n",
    "                if rp.endswith('.png'):\n",
    "                    image_path = os.path.join(relative_path,rp)\n",
    "                    all_images_paths.append(image_path)\n",
    "                    # print(all_images_paths)\n",
    "        # return all_images_paths\n",
    "    except NotADirectoryError:\n",
    "        pass\n",
    "    return all_images_paths\n",
    "\n",
    "get_image_path(all_images_dir='/Users/angelicaaluo/Airbnb/AIRBNB-DATASET/airbnb-property-listings/images'\n",
    ")\n"
   ]
  },
  {
   "cell_type": "code",
   "execution_count": null,
   "metadata": {},
   "outputs": [],
   "source": [
    "\n",
    "def get_image_height():\n",
    "    il=get_image_path()\n",
    "    for a in il:\n",
    "        im=io.imread(a)\n",
    "        height=im.shape[0]\n",
    "        print(height)\n",
    "# get_image_height()"
   ]
  },
  {
   "cell_type": "code",
   "execution_count": 43,
   "metadata": {},
   "outputs": [
    {
     "ename": "ValueError",
     "evalue": "Could not find a backend to open `/Users/angelicaaluo/Airbnb/AIRBNB-DATASET/airbnb-property-listings/images/bd504a16-938e-4d21-aab9-b554354f877b/bd504a16-938e-4d21-aab9-b554354f877b-c.png`` with iomode `ri`.",
     "output_type": "error",
     "traceback": [
      "\u001b[0;31m---------------------------------------------------------------------------\u001b[0m",
      "\u001b[0;31mValueError\u001b[0m                                Traceback (most recent call last)",
      "Cell \u001b[0;32mIn [43], line 17\u001b[0m\n\u001b[1;32m     14\u001b[0m     \u001b[38;5;66;03m# except cv2.UnidentifiedImageError:\u001b[39;00m\n\u001b[1;32m     15\u001b[0m     \u001b[38;5;66;03m#     pass\u001b[39;00m\n\u001b[1;32m     16\u001b[0m         \u001b[38;5;28;01mreturn\u001b[39;00m min_height\n\u001b[0;32m---> 17\u001b[0m \u001b[43mget_min_image_height\u001b[49m\u001b[43m(\u001b[49m\u001b[43m)\u001b[49m\n",
      "Cell \u001b[0;32mIn [43], line 8\u001b[0m, in \u001b[0;36mget_min_image_height\u001b[0;34m()\u001b[0m\n\u001b[1;32m      5\u001b[0m all_height \u001b[38;5;241m=\u001b[39m []\n\u001b[1;32m      6\u001b[0m \u001b[38;5;28;01mfor\u001b[39;00m a \u001b[38;5;129;01min\u001b[39;00m il:\n\u001b[1;32m      7\u001b[0m     \u001b[38;5;66;03m# with Image.open(a) as im:\u001b[39;00m\n\u001b[0;32m----> 8\u001b[0m     im \u001b[38;5;241m=\u001b[39m \u001b[43mio\u001b[49m\u001b[38;5;241;43m.\u001b[39;49m\u001b[43mimread\u001b[49m\u001b[43m(\u001b[49m\u001b[43ma\u001b[49m\u001b[43m)\u001b[49m\n\u001b[1;32m      9\u001b[0m     height \u001b[38;5;241m=\u001b[39m im\u001b[38;5;241m.\u001b[39mshape[\u001b[38;5;241m0\u001b[39m]\n\u001b[1;32m     10\u001b[0m     all_height\u001b[38;5;241m.\u001b[39mappend(height)\n",
      "File \u001b[0;32m~/opt/miniconda3/envs/airbnb_env/lib/python3.10/site-packages/skimage/io/_io.py:53\u001b[0m, in \u001b[0;36mimread\u001b[0;34m(fname, as_gray, plugin, **plugin_args)\u001b[0m\n\u001b[1;32m     50\u001b[0m         plugin \u001b[39m=\u001b[39m \u001b[39m'\u001b[39m\u001b[39mtifffile\u001b[39m\u001b[39m'\u001b[39m\n\u001b[1;32m     52\u001b[0m \u001b[39mwith\u001b[39;00m file_or_url_context(fname) \u001b[39mas\u001b[39;00m fname:\n\u001b[0;32m---> 53\u001b[0m     img \u001b[39m=\u001b[39m call_plugin(\u001b[39m'\u001b[39;49m\u001b[39mimread\u001b[39;49m\u001b[39m'\u001b[39;49m, fname, plugin\u001b[39m=\u001b[39;49mplugin, \u001b[39m*\u001b[39;49m\u001b[39m*\u001b[39;49mplugin_args)\n\u001b[1;32m     55\u001b[0m \u001b[39mif\u001b[39;00m \u001b[39mnot\u001b[39;00m \u001b[39mhasattr\u001b[39m(img, \u001b[39m'\u001b[39m\u001b[39mndim\u001b[39m\u001b[39m'\u001b[39m):\n\u001b[1;32m     56\u001b[0m     \u001b[39mreturn\u001b[39;00m img\n",
      "File \u001b[0;32m~/opt/miniconda3/envs/airbnb_env/lib/python3.10/site-packages/skimage/io/manage_plugins.py:207\u001b[0m, in \u001b[0;36mcall_plugin\u001b[0;34m(kind, *args, **kwargs)\u001b[0m\n\u001b[1;32m    203\u001b[0m     \u001b[39mexcept\u001b[39;00m \u001b[39mIndexError\u001b[39;00m:\n\u001b[1;32m    204\u001b[0m         \u001b[39mraise\u001b[39;00m \u001b[39mRuntimeError\u001b[39;00m(\u001b[39m'\u001b[39m\u001b[39mCould not find the plugin \u001b[39m\u001b[39m\"\u001b[39m\u001b[39m%s\u001b[39;00m\u001b[39m\"\u001b[39m\u001b[39m for \u001b[39m\u001b[39m%s\u001b[39;00m\u001b[39m.\u001b[39m\u001b[39m'\u001b[39m \u001b[39m%\u001b[39m\n\u001b[1;32m    205\u001b[0m                            (plugin, kind))\n\u001b[0;32m--> 207\u001b[0m \u001b[39mreturn\u001b[39;00m func(\u001b[39m*\u001b[39;49margs, \u001b[39m*\u001b[39;49m\u001b[39m*\u001b[39;49mkwargs)\n",
      "File \u001b[0;32m~/opt/miniconda3/envs/airbnb_env/lib/python3.10/site-packages/skimage/io/_plugins/imageio_plugin.py:15\u001b[0m, in \u001b[0;36mimread\u001b[0;34m(*args, **kwargs)\u001b[0m\n\u001b[1;32m     13\u001b[0m \u001b[39m@wraps\u001b[39m(imageio_imread)\n\u001b[1;32m     14\u001b[0m \u001b[39mdef\u001b[39;00m \u001b[39mimread\u001b[39m(\u001b[39m*\u001b[39margs, \u001b[39m*\u001b[39m\u001b[39m*\u001b[39mkwargs):\n\u001b[0;32m---> 15\u001b[0m     \u001b[39mreturn\u001b[39;00m np\u001b[39m.\u001b[39masarray(imageio_imread(\u001b[39m*\u001b[39;49margs, \u001b[39m*\u001b[39;49m\u001b[39m*\u001b[39;49mkwargs))\n",
      "File \u001b[0;32m~/opt/miniconda3/envs/airbnb_env/lib/python3.10/site-packages/imageio/v2.py:226\u001b[0m, in \u001b[0;36mimread\u001b[0;34m(uri, format, **kwargs)\u001b[0m\n\u001b[1;32m    223\u001b[0m imopen_args \u001b[39m=\u001b[39m decypher_format_arg(\u001b[39mformat\u001b[39m)\n\u001b[1;32m    224\u001b[0m imopen_args[\u001b[39m\"\u001b[39m\u001b[39mlegacy_mode\u001b[39m\u001b[39m\"\u001b[39m] \u001b[39m=\u001b[39m \u001b[39mTrue\u001b[39;00m\n\u001b[0;32m--> 226\u001b[0m \u001b[39mwith\u001b[39;00m imopen(uri, \u001b[39m\"\u001b[39;49m\u001b[39mri\u001b[39;49m\u001b[39m\"\u001b[39;49m, \u001b[39m*\u001b[39;49m\u001b[39m*\u001b[39;49mimopen_args) \u001b[39mas\u001b[39;00m file:\n\u001b[1;32m    227\u001b[0m     result \u001b[39m=\u001b[39m file\u001b[39m.\u001b[39mread(index\u001b[39m=\u001b[39m\u001b[39m0\u001b[39m, \u001b[39m*\u001b[39m\u001b[39m*\u001b[39mkwargs)\n\u001b[1;32m    229\u001b[0m \u001b[39mreturn\u001b[39;00m result\n",
      "File \u001b[0;32m~/opt/miniconda3/envs/airbnb_env/lib/python3.10/site-packages/imageio/core/imopen.py:298\u001b[0m, in \u001b[0;36mimopen\u001b[0;34m(uri, io_mode, plugin, extension, format_hint, legacy_mode, **kwargs)\u001b[0m\n\u001b[1;32m    292\u001b[0m         err_msg \u001b[39m+\u001b[39m\u001b[39m=\u001b[39m (\n\u001b[1;32m    293\u001b[0m             \u001b[39m\"\u001b[39m\u001b[39m\\n\u001b[39;00m\u001b[39mBased on the extension, the following plugins might add capable backends:\u001b[39m\u001b[39m\\n\u001b[39;00m\u001b[39m\"\u001b[39m\n\u001b[1;32m    294\u001b[0m             \u001b[39mf\u001b[39m\u001b[39m\"\u001b[39m\u001b[39m{\u001b[39;00minstall_candidates\u001b[39m}\u001b[39;00m\u001b[39m\"\u001b[39m\n\u001b[1;32m    295\u001b[0m         )\n\u001b[1;32m    297\u001b[0m request\u001b[39m.\u001b[39mfinish()\n\u001b[0;32m--> 298\u001b[0m \u001b[39mraise\u001b[39;00m err_type(err_msg)\n",
      "\u001b[0;31mValueError\u001b[0m: Could not find a backend to open `/Users/angelicaaluo/Airbnb/AIRBNB-DATASET/airbnb-property-listings/images/bd504a16-938e-4d21-aab9-b554354f877b/bd504a16-938e-4d21-aab9-b554354f877b-c.png`` with iomode `ri`."
     ]
    }
   ],
   "source": [
    "import cv2\n",
    "def get_min_image_height():\n",
    "    # try:\n",
    "        il = get_image_path(all_images_dir='/Users/angelicaaluo/Airbnb/AIRBNB-DATASET/airbnb-property-listings/images')\n",
    "        all_height = []\n",
    "        for a in il:\n",
    "            # with Image.open(a) as im:\n",
    "            im = io.imread(a)\n",
    "            height = im.shape[0]\n",
    "            all_height.append(height)\n",
    "\n",
    "        min_height = min(all_height)\n",
    "        print(min_height)\n",
    "    # except cv2.UnidentifiedImageError:\n",
    "    #     pass\n",
    "        return min_height\n",
    "get_min_image_height()\n"
   ]
  },
  {
   "cell_type": "code",
   "execution_count": null,
   "metadata": {},
   "outputs": [],
   "source": [
    "def resize_image(images_path):\n",
    "    # images_path=get_image_path()\n",
    "    new_height=get_min_image_height()\n",
    "    resized_images=[]\n",
    "    for i in images_path:\n",
    "        im = io.imread(i)\n",
    "        if im.shape[-1]==3:\n",
    "            height = im.shape[0]\n",
    "            height=new_height\n",
    "            resized_images.append(i)\n",
    "    # print(resized_images)\n",
    "    return resized_images\n",
    "resize_image(images_path=get_image_path())"
   ]
  },
  {
   "cell_type": "code",
   "execution_count": null,
   "metadata": {},
   "outputs": [],
   "source": [
    "def get_min_image_height():\n",
    "    il = get_image_path()\n",
    "    all_height = []\n",
    "    for a in il:\n",
    "        im = io.imread(a)\n",
    "        height = im.shape[0]\n",
    "        all_height.append(height)\n",
    "\n",
    "    min_height = min(all_height)\n",
    "    print(min_height)\n",
    "    return min_height\n"
   ]
  },
  {
   "cell_type": "code",
   "execution_count": null,
   "metadata": {},
   "outputs": [],
   "source": [
    "\n",
    "if __name__=='__main__':\n",
    "    if not os.path.isdir('resized_images'):\n",
    "        os.makedirs('resized_images')\n",
    "\n",
    "    # filename = 'new_file.txt'\n",
    "    filenames=get_image_path()\n",
    "    for filename in filenames:\n",
    "        file_path = os.path.join('resized_images', filename)\n",
    "    with open(file_path, 'w') as file:\n",
    "        file.write(resize_image(images_path=get_image_path))\n"
   ]
  }
 ],
 "metadata": {
  "kernelspec": {
   "display_name": "Python 3.10.8 ('airbnb_env')",
   "language": "python",
   "name": "python3"
  },
  "language_info": {
   "codemirror_mode": {
    "name": "ipython",
    "version": 3
   },
   "file_extension": ".py",
   "mimetype": "text/x-python",
   "name": "python",
   "nbconvert_exporter": "python",
   "pygments_lexer": "ipython3",
   "version": "3.10.8"
  },
  "orig_nbformat": 4,
  "vscode": {
   "interpreter": {
    "hash": "0cc1e864071f7d9f9cf83eed041ff7630f947f62589f9226f691d59f3a340221"
   }
  }
 },
 "nbformat": 4,
 "nbformat_minor": 2
}
